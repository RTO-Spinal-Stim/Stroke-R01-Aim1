{
 "cells": [
  {
   "cell_type": "code",
   "execution_count": 1,
   "id": "fd950780",
   "metadata": {},
   "outputs": [],
   "source": [
    "from run_CGAM_pipeline import run_CGAM_pipeline\n",
    "from run_Labeling_pipeline import run_labeling_pipeline\n",
    "from run_ML_inputs_pipeline import run_preprocessing_pipeline\n",
    "\n",
    "\n"
   ]
  },
  {
   "cell_type": "code",
   "execution_count": 2,
   "id": "cb43d533",
   "metadata": {},
   "outputs": [
    {
     "name": "stdout",
     "output_type": "stream",
     "text": [
      "No missing data found.\n",
      "Data loaded and filtered: Speed=SSV, Include SHAM1=False\n",
      "Starting VIF computation...\n",
      "Dropping 'SwingDurations_GR_Sym' with VIF=39.58\n",
      "Dropping 'SwingPhasePerc_GR_Sym' with VIF=6.40\n",
      "Dropping 'StepLengths_GR_Sym' with VIF=5.63\n",
      "Calculating CGAM...\n",
      "CGAM calculation complete.\n",
      "Calculating Cohen's d for Pre vs Post...\n",
      "Cohen's d calculation complete.\n",
      "CGAM and Cohen's d results not exported. Set CGAM_export to True to enable export.\n"
     ]
    }
   ],
   "source": [
    "# Initialize Data Path's for CGAM and Cohen's d calculations\n",
    "matched_cycles_data_path = r\"Y:\\LabMembers\\MTillman\\SavedOutcomes\\StrokeSpinalStim\\Overground_EMG_Kinematics\\MergedTablesAffectedUnaffected10MWT\\matchedCycles.csv\"\n",
    "demographics_MEPs_data_path = demographics_path = r\"Y:\\Spinal Stim_Stroke R01\\AIM 1\\Subject Data\\Subjects_demographics_MEPs.xlsx\"\n",
    "# matched_cycles_data_path = r\"/home/mtillman/mnt/rto/LabMembers/MTillman/SavedOutcomes/StrokeSpinalStim/Overground_EMG_Kinematics/MergedTablesAffectedUnaffected10MWT/matchedCycles.csv\"\n",
    "# demographics_MEPs_data_path = demographics_path = r\"/home/mtillman/mnt/rto/Spinal Stim_Stroke R01/AIM 1/Subject Data/Subjects_demographics_MEPs.xlsx\"\n",
    "\n",
    "# Run CGAM and Cohen's d calculations\n",
    "cgam_df, cohens_df, filtered_df = run_CGAM_pipeline(\n",
    "    data_path=matched_cycles_data_path, \n",
    "    speed = 'SSV',\n",
    "    include_sham1=False,\n",
    "    feature_type='all') # Options: 'all', 'gait', 'joint', 'emg' [Select feature type to include in CGAM]\n",
    "\n",
    "# filtered_df.to_csv(r\"Y:\\LabMembers\\MTillman\\SavedOutcomes\\StrokeSpinalStim\\Overground_EMG_Kinematics\\MergedTablesAffectedUnaffected\\matchedCyclesFiltered.csv\", index=False)\n",
    "\n",
    "CGAM_export = False # Flag to control export of results\n",
    "if CGAM_export:\n",
    "    # Export CGAM and Cohen's d results\n",
    "    cgam_df.to_csv(r\"Y:\\LabMembers\\MTillman\\SavedOutcomes\\StrokeSpinalStim\\Overground_EMG_Kinematics\\MergedTablesAffectedUnaffected\\matchedCyclesCGAM.csv\", index=False)\n",
    "    print(\"CGAM results exported successfully.\")\n",
    "    cohens_df.to_csv(r\"Y:\\LabMembers\\MTillman\\SavedOutcomes\\StrokeSpinalStim\\Overground_EMG_Kinematics\\MergedTablesAffectedUnaffected\\matchedCyclesCGAMCohens.csv\", index=False)\n",
    "    print(\"Cohen's d results exported successfully.\")\n",
    "else:\n",
    "    print(\"CGAM and Cohen's d results not exported. Set CGAM_export to True to enable export.\")"
   ]
  },
  {
   "cell_type": "code",
   "execution_count": null,
   "id": "d7ea1c36",
   "metadata": {},
   "outputs": [],
   "source": [
    "cohens_df.head()"
   ]
  },
  {
   "cell_type": "code",
   "execution_count": null,
   "id": "7d6be48b",
   "metadata": {},
   "outputs": [],
   "source": [
    "# AIM 1 ML LABEL SETUP ONLY\n",
    "# ML Labeling based on CGAM Cohen's d results\n",
    "# ttest_results: Best stim vs. no stim, TOL vs. RMT, 50 vs. 30\n",
    "# labels_df: Dataframe used to train the model\n",
    "ttest_results, labels_df = run_labeling_pipeline(cohens_df=cohens_df, plot = False)\n",
    "\n",
    "label_export = False # Flag to control export of labels\n",
    "\n",
    "if label_export:\n",
    "    # Export labels\n",
    "    labels_df.to_csv(r\"Y:\\LabMembers\\Ameen\\VScode Scripts\\Spinal Stim Aim 1 Codes\\ML Labels and Inputs\\ML_Labels.csv\", index=False)\n",
    "    print(\"Labels exported successfully.\")\n",
    "    #ttest_results.to_csv(r\"Y:\\LabMembers\\Ameen\\VScode Scripts\\Spinal Stim Aim 1 Codes\\ML Labels and Inputs\\TTestResults.csv\", index=False)\n",
    "    print(\"T-test results exported successfully.\")\n",
    "else:\n",
    "    print(\"Labels and T-test results not exported. Set label_export to True to enable export.\")"
   ]
  },
  {
   "cell_type": "code",
   "execution_count": null,
   "id": "24596f11",
   "metadata": {},
   "outputs": [],
   "source": [
    "# AIM 1 ML DATA SETUP ONLY\n",
    "# Initialize Data Path's for Labeling and ML Inputs\n",
    "# Taking the demographics, MEPs and SHAM1 matched cycles into one DataFrame\n",
    "export_dir = r\"Y:\\LabMembers\\Ameen\\VScode Scripts\\Spinal Stim Aim 1 Codes\\ML Labels and Inputs\"\n",
    "\n",
    "input_export = False # Flag to control export of ML inputs\n",
    "if input_export:\n",
    "# Run Preprocessing Pipeline for ML Inputs\n",
    "    input_df = run_preprocessing_pipeline(demographics_path = demographics_MEPs_data_path, matchedCycles_path = matched_cycles_data_path, export_dir=export_dir)\n",
    "    print(\"ML inputs processed successfully.\")\n",
    "else:\n",
    "    input_df = run_preprocessing_pipeline(demographics_path = demographics_MEPs_data_path, matchedCycles_path = matched_cycles_data_path, export_dir=None)\n",
    "    print(\"ML inputs not exported. Set input_export to True to enable export.\")\n"
   ]
  },
  {
   "cell_type": "code",
   "execution_count": null,
   "id": "2f98665e",
   "metadata": {},
   "outputs": [],
   "source": [
    "cohens_df"
   ]
  }
 ],
 "metadata": {
  "kernelspec": {
   "display_name": "MAIN_ENV (3.12.6)",
   "language": "python",
   "name": "python3"
  },
  "language_info": {
   "codemirror_mode": {
    "name": "ipython",
    "version": 3
   },
   "file_extension": ".py",
   "mimetype": "text/x-python",
   "name": "python",
   "nbconvert_exporter": "python",
   "pygments_lexer": "ipython3",
   "version": "3.12.6"
  }
 },
 "nbformat": 4,
 "nbformat_minor": 5
}
